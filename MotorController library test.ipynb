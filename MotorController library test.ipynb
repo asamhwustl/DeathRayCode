{
 "cells": [
  {
   "cell_type": "code",
   "execution_count": 1,
   "metadata": {},
   "outputs": [],
   "source": [
    "import serial\n",
    "import motorcontroller\n",
    "import time"
   ]
  },
  {
   "cell_type": "code",
   "execution_count": 2,
   "metadata": {},
   "outputs": [],
   "source": [
    "m = motorcontroller.motor"
   ]
  },
  {
   "cell_type": "code",
   "execution_count": 3,
   "metadata": {},
   "outputs": [],
   "source": [
    "ser = serial.Serial('/dev/ttyACM0')"
   ]
  },
  {
   "cell_type": "code",
   "execution_count": 4,
   "metadata": {},
   "outputs": [],
   "source": [
    "class Motorpair:\n",
    "    def __init__(self, xmotor, ymotor):\n",
    "        self.xmotor = xmotor\n",
    "        self.ymotor = ymotor\n",
    "    \n",
    "    def pairtolimit(self, xdir, ydir):\n",
    "        self.xmotor.tolimit(xdir)\n",
    "        self.ymotor.tolimit(ydir)\n",
    "    \n",
    "    def movepairto(self, x, y):\n",
    "        self.xmotor.moveto(x)\n",
    "        self.ymotor.moveto(y)\n",
    "    \n",
    "    def movepair(self, xdir, x, ydir, y):\n",
    "        self.xmotor.move(xdir, x)\n",
    "        self.ymotor.move(ydir, y)\n"
   ]
  },
  {
   "cell_type": "code",
   "execution_count": 5,
   "metadata": {},
   "outputs": [],
   "source": [
    "motorx = m.Motor('x', ser)\n",
    "motory = m.Motor('y', ser)\n",
    "motorpair = Motorpair(motorx, motory)"
   ]
  },
  {
   "cell_type": "code",
   "execution_count": 11,
   "metadata": {},
   "outputs": [],
   "source": [
    "motorpair.pairtolimit('+', '-')\n"
   ]
  },
  {
   "cell_type": "code",
   "execution_count": 12,
   "metadata": {},
   "outputs": [
    {
     "ename": "Exception",
     "evalue": "Use tolimit() to establish current location before using absolute positioning and position().",
     "output_type": "error",
     "traceback": [
      "\u001b[0;31m---------------------------------------------------------------------------\u001b[0m",
      "\u001b[0;31mException\u001b[0m                                 Traceback (most recent call last)",
      "Cell \u001b[0;32mIn[12], line 1\u001b[0m\n\u001b[0;32m----> 1\u001b[0m \u001b[43mmotorpair\u001b[49m\u001b[38;5;241;43m.\u001b[39;49m\u001b[43mmovepairto\u001b[49m\u001b[43m(\u001b[49m\u001b[38;5;241;43m4.9\u001b[39;49m\u001b[43m,\u001b[49m\u001b[43m \u001b[49m\u001b[38;5;241;43m1.7\u001b[39;49m\u001b[43m)\u001b[49m\n\u001b[1;32m      2\u001b[0m \u001b[38;5;66;03m#motorpair.movepair('+', 1, '+', 1)\u001b[39;00m\n",
      "Cell \u001b[0;32mIn[4], line 11\u001b[0m, in \u001b[0;36mMotorpair.movepairto\u001b[0;34m(self, x, y)\u001b[0m\n\u001b[1;32m     10\u001b[0m \u001b[38;5;28;01mdef\u001b[39;00m \u001b[38;5;21mmovepairto\u001b[39m(\u001b[38;5;28mself\u001b[39m, x, y):\n\u001b[0;32m---> 11\u001b[0m     \u001b[38;5;28;43mself\u001b[39;49m\u001b[38;5;241;43m.\u001b[39;49m\u001b[43mxmotor\u001b[49m\u001b[38;5;241;43m.\u001b[39;49m\u001b[43mmoveto\u001b[49m\u001b[43m(\u001b[49m\u001b[43mx\u001b[49m\u001b[43m)\u001b[49m\n\u001b[1;32m     12\u001b[0m     \u001b[38;5;28mself\u001b[39m\u001b[38;5;241m.\u001b[39mymotor\u001b[38;5;241m.\u001b[39mmoveto(y)\n",
      "File \u001b[0;32m~/projects/motorcontroller/motor.py:208\u001b[0m, in \u001b[0;36mMotor.moveto\u001b[0;34m(self, distance, unit)\u001b[0m\n\u001b[1;32m    206\u001b[0m \u001b[38;5;66;03m#Checks to make sure the motor knows wher it is before moving. Raises an error if not.\u001b[39;00m\n\u001b[1;32m    207\u001b[0m \u001b[38;5;28;01mif\u001b[39;00m \u001b[38;5;28mself\u001b[39m\u001b[38;5;241m.\u001b[39mpos \u001b[38;5;241m==\u001b[39m \u001b[38;5;28;01mNone\u001b[39;00m:\n\u001b[0;32m--> 208\u001b[0m     \u001b[38;5;28;01mraise\u001b[39;00m \u001b[38;5;167;01mException\u001b[39;00m(\u001b[38;5;124m\"\u001b[39m\u001b[38;5;124mUse tolimit() to establish current location before using absolute positioning and position().\u001b[39m\u001b[38;5;124m\"\u001b[39m)\n\u001b[1;32m    210\u001b[0m \u001b[38;5;66;03m#Converts the distance in other units into the distance in inches. If a unit not 'in', 'cm', or 'mm' is specified, throws an error.\u001b[39;00m\n\u001b[1;32m    211\u001b[0m inchdistance \u001b[38;5;241m=\u001b[39m \u001b[38;5;241m0\u001b[39m\n",
      "\u001b[0;31mException\u001b[0m: Use tolimit() to establish current location before using absolute positioning and position()."
     ]
    }
   ],
   "source": [
    "motorpair.movepairto(4.9, 1.7)\n",
    "#motorpair.movepair('+', 1, '+', 1)"
   ]
  },
  {
   "cell_type": "code",
   "execution_count": null,
   "metadata": {},
   "outputs": [
    {
     "ename": "Exception",
     "evalue": "The Arduino sent something in the correct format but it's not a success or an unexpectedly hit limit.",
     "output_type": "error",
     "traceback": [
      "\u001b[0;31m---------------------------------------------------------------------------\u001b[0m",
      "\u001b[0;31mException\u001b[0m                                 Traceback (most recent call last)",
      "Cell \u001b[0;32mIn[10], line 4\u001b[0m\n\u001b[1;32m      1\u001b[0m xpoints \u001b[38;5;241m=\u001b[39m [\u001b[38;5;241m0\u001b[39m, \u001b[38;5;241m0\u001b[39m, \u001b[38;5;241m9\u001b[39m, \u001b[38;5;241m9\u001b[39m, \u001b[38;5;241m1\u001b[39m, \u001b[38;5;241m1\u001b[39m, \u001b[38;5;241m8\u001b[39m, \u001b[38;5;241m8\u001b[39m, \u001b[38;5;241m2\u001b[39m, \u001b[38;5;241m2\u001b[39m, \u001b[38;5;241m7\u001b[39m, \u001b[38;5;241m7\u001b[39m, \u001b[38;5;241m3\u001b[39m, \u001b[38;5;241m3\u001b[39m, \u001b[38;5;241m6\u001b[39m, \u001b[38;5;241m6\u001b[39m, \u001b[38;5;241m5\u001b[39m, \u001b[38;5;241m5\u001b[39m, \u001b[38;5;241m4\u001b[39m, \u001b[38;5;241m4\u001b[39m]\n\u001b[1;32m      2\u001b[0m ypoints \u001b[38;5;241m=\u001b[39m [\u001b[38;5;241m0\u001b[39m, \u001b[38;5;241m9\u001b[39m, \u001b[38;5;241m9\u001b[39m, \u001b[38;5;241m0\u001b[39m, \u001b[38;5;241m0\u001b[39m, \u001b[38;5;241m8\u001b[39m, \u001b[38;5;241m8\u001b[39m, \u001b[38;5;241m1\u001b[39m, \u001b[38;5;241m1\u001b[39m, \u001b[38;5;241m7\u001b[39m, \u001b[38;5;241m7\u001b[39m, \u001b[38;5;241m2\u001b[39m, \u001b[38;5;241m2\u001b[39m, \u001b[38;5;241m6\u001b[39m, \u001b[38;5;241m6\u001b[39m, \u001b[38;5;241m3\u001b[39m, \u001b[38;5;241m3\u001b[39m, \u001b[38;5;241m5\u001b[39m, \u001b[38;5;241m5\u001b[39m, \u001b[38;5;241m4\u001b[39m]\n\u001b[0;32m----> 4\u001b[0m \u001b[43mmotorpair\u001b[49m\u001b[38;5;241;43m.\u001b[39;49m\u001b[43mpairtolimit\u001b[49m\u001b[43m(\u001b[49m\u001b[38;5;124;43m'\u001b[39;49m\u001b[38;5;124;43m-\u001b[39;49m\u001b[38;5;124;43m'\u001b[39;49m\u001b[43m,\u001b[49m\u001b[43m \u001b[49m\u001b[38;5;124;43m'\u001b[39;49m\u001b[38;5;124;43m-\u001b[39;49m\u001b[38;5;124;43m'\u001b[39;49m\u001b[43m)\u001b[49m\n\u001b[1;32m      6\u001b[0m \u001b[38;5;28;01mfor\u001b[39;00m i \u001b[38;5;129;01min\u001b[39;00m \u001b[38;5;28mrange\u001b[39m(\u001b[38;5;28mlen\u001b[39m(xpoints)):\n\u001b[1;32m      7\u001b[0m     motorpair\u001b[38;5;241m.\u001b[39mmovepairto(xpoints[i], ypoints[i])\n",
      "Cell \u001b[0;32mIn[4], line 7\u001b[0m, in \u001b[0;36mMotorpair.pairtolimit\u001b[0;34m(self, xdir, ydir)\u001b[0m\n\u001b[1;32m      6\u001b[0m \u001b[38;5;28;01mdef\u001b[39;00m \u001b[38;5;21mpairtolimit\u001b[39m(\u001b[38;5;28mself\u001b[39m, xdir, ydir):\n\u001b[0;32m----> 7\u001b[0m     \u001b[38;5;28;43mself\u001b[39;49m\u001b[38;5;241;43m.\u001b[39;49m\u001b[43mxmotor\u001b[49m\u001b[38;5;241;43m.\u001b[39;49m\u001b[43mtolimit\u001b[49m\u001b[43m(\u001b[49m\u001b[43mxdir\u001b[49m\u001b[43m)\u001b[49m\n\u001b[1;32m      8\u001b[0m     \u001b[38;5;28mself\u001b[39m\u001b[38;5;241m.\u001b[39mymotor\u001b[38;5;241m.\u001b[39mtolimit(ydir)\n",
      "File \u001b[0;32m~/projects/motorcontroller/motor.py:197\u001b[0m, in \u001b[0;36mMotor.tolimit\u001b[0;34m(self, direction)\u001b[0m\n\u001b[1;32m    195\u001b[0m \u001b[38;5;28;01mdef\u001b[39;00m \u001b[38;5;21mtolimit\u001b[39m(\u001b[38;5;28mself\u001b[39m, direction):\n\u001b[0;32m--> 197\u001b[0m     \u001b[38;5;28;43mself\u001b[39;49m\u001b[38;5;241;43m.\u001b[39;49m\u001b[43mmove\u001b[49m\u001b[43m(\u001b[49m\u001b[43mdirection\u001b[49m\u001b[43m,\u001b[49m\u001b[43m \u001b[49m\u001b[43mgotolimit\u001b[49m\u001b[43m \u001b[49m\u001b[38;5;241;43m=\u001b[39;49m\u001b[43m \u001b[49m\u001b[38;5;28;43;01mTrue\u001b[39;49;00m\u001b[43m)\u001b[49m\n",
      "File \u001b[0;32m~/projects/motorcontroller/motor.py:172\u001b[0m, in \u001b[0;36mMotor.move\u001b[0;34m(self, direction, distance, unit, gotolimit)\u001b[0m\n\u001b[1;32m    169\u001b[0m         \u001b[38;5;28;01mraise\u001b[39;00m \u001b[38;5;167;01mException\u001b[39;00m(\u001b[38;5;124m\"\u001b[39m\u001b[38;5;124mThe Arduino was reset during movement. If using absolute positioning, the program has no idea where it is now.\u001b[39m\u001b[38;5;124m\"\u001b[39m)\n\u001b[1;32m    171\u001b[0m     \u001b[38;5;28;01melse\u001b[39;00m:\n\u001b[0;32m--> 172\u001b[0m         \u001b[38;5;28;01mraise\u001b[39;00m \u001b[38;5;167;01mException\u001b[39;00m(\u001b[38;5;124m\"\u001b[39m\u001b[38;5;124mThe Arduino sent something in the correct format but it\u001b[39m\u001b[38;5;124m'\u001b[39m\u001b[38;5;124ms not a success or an unexpectedly hit limit.\u001b[39m\u001b[38;5;124m\"\u001b[39m)\n\u001b[1;32m    174\u001b[0m \u001b[38;5;66;03m#This section deals with absolute positioning.\u001b[39;00m\n\u001b[1;32m    175\u001b[0m \u001b[38;5;28;01melse\u001b[39;00m:\n\u001b[1;32m    176\u001b[0m     \u001b[38;5;66;03m#If the gotolimit flag is True, uses what direction the motor is turning to set the position to posmax or posmin.\u001b[39;00m\n\u001b[1;32m    177\u001b[0m     \u001b[38;5;28;01mif\u001b[39;00m gotolimit:\n",
      "\u001b[0;31mException\u001b[0m: The Arduino sent something in the correct format but it's not a success or an unexpectedly hit limit."
     ]
    }
   ],
   "source": [
    "xpoints = [0, 0, 9, 9, 1, 1, 8, 8, 2, 2, 7, 7, 3, 3, 6, 6, 5, 5, 4, 4]\n",
    "ypoints = [0, 9, 9, 0, 0, 8, 8, 1, 1, 7, 7, 2, 2, 6, 6, 3, 3, 5, 5, 4]\n",
    "\n",
    "motorpair.pairtolimit('-', '-')\n",
    "\n",
    "for i in range(len(xpoints)):\n",
    "    motorpair.movepairto(xpoints[i], ypoints[i])"
   ]
  },
  {
   "cell_type": "code",
   "execution_count": null,
   "metadata": {},
   "outputs": [],
   "source": [
    "ser.close()"
   ]
  }
 ],
 "metadata": {
  "kernelspec": {
   "display_name": "base",
   "language": "python",
   "name": "python3"
  },
  "language_info": {
   "codemirror_mode": {
    "name": "ipython",
    "version": 3
   },
   "file_extension": ".py",
   "mimetype": "text/x-python",
   "name": "python",
   "nbconvert_exporter": "python",
   "pygments_lexer": "ipython3",
   "version": "3.11.4"
  },
  "orig_nbformat": 4
 },
 "nbformat": 4,
 "nbformat_minor": 2
}
